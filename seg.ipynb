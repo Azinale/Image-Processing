{
 "cells": [
  {
   "cell_type": "code",
   "execution_count": 2,
   "metadata": {},
   "outputs": [],
   "source": [
    "# common packages \n",
    "import numpy as np \n",
    "import os\n",
    "import copy\n",
    "from math import *\n",
    "import matplotlib.pyplot as plt\n",
    "from functools import reduce\n",
    "# reading in dicom files\n",
    "import pydicom\n",
    "# skimage image processing packages\n",
    "from skimage import measure, morphology\n",
    "from skimage.morphology import ball, binary_closing\n",
    "from skimage.measure import label, regionprops\n",
    "# scipy linear algebra functions \n",
    "from scipy.linalg import norm\n",
    "import scipy.ndimage\n",
    "# ipywidgets for some interactive plots\n",
    "from ipywidgets.widgets import * \n",
    "import ipywidgets as widgets\n",
    "# plotly 3D interactive graphs \n",
    "import plotly\n",
    "from plotly.graph_objs import *\n",
    "import chart_studio.plotly as py\n",
    "# set plotly credentials here \n",
    "# this allows you to send results to your account plotly.tools.set_credentials_file(username=your_username, api_key=your_key)"
   ]
  },
  {
   "cell_type": "code",
   "execution_count": 10,
   "metadata": {},
   "outputs": [],
   "source": [
    "def load_scan(path):\n",
    "    slices = [pydicom.dcmread(path + '/' + s) for s in               \n",
    "              os.listdir(path)]\n",
    "    slices = [s for s in slices if 'SliceLocation' in s]\n",
    "    slices.sort(key = lambda x: int(x.InstanceNumber))\n",
    "    try:\n",
    "        slice_thickness = np.abs(slices[0].ImagePositionPatient[2] -   \n",
    "                          slices[1].ImagePositionPatient[2])\n",
    "    except:\n",
    "        slice_thickness = np.abs(slices[0].SliceLocation -\n",
    "                      slices[1].SliceLocation)\n",
    "    for s in slices:\n",
    "        s.SliceThickness = slice_thickness\n",
    "    return slices\n",
    "def get_pixels_hu(scans):\n",
    "    image = np.stack([s.pixel_array for s in scans])\n",
    "    image = image.astype(np.int16)\n",
    "    # Set outside-of-scan pixels to 0\n",
    "    # The intercept is usually -1024, so air is approximately 0\n",
    "    image[image == -2000] = 0\n",
    "    \n",
    "    # Convert to Hounsfield units (HU)\n",
    "    intercept = scans[0].RescaleIntercept\n",
    "    slope = scans[0].RescaleSlope\n",
    "    \n",
    "    if slope != 1:\n",
    "        image = slope * image.astype(np.float64)\n",
    "        image = image.astype(np.int16)\n",
    "        \n",
    "    image += np.int16(intercept)\n",
    "    \n",
    "    return np.array(image, dtype=np.int16)"
   ]
  },
  {
   "cell_type": "code",
   "execution_count": 24,
   "metadata": {},
   "outputs": [
    {
     "ename": "SyntaxError",
     "evalue": "(unicode error) 'unicodeescape' codec can't decode bytes in position 2-3: truncated \\UXXXXXXXX escape (2638609739.py, line 2)",
     "output_type": "error",
     "traceback": [
      "\u001b[1;36m  Cell \u001b[1;32mIn[24], line 2\u001b[1;36m\u001b[0m\n\u001b[1;33m    path = \"C:\\Users\\lalal\\Desktop\\imageProcessing\\demo\\manifest-1701814559353\\QIN LUNG CT\\QIN-LSC-0003\\08-06-2003-1-CT Thorax wContrast-41946\"\u001b[0m\n\u001b[1;37m           ^\u001b[0m\n\u001b[1;31mSyntaxError\u001b[0m\u001b[1;31m:\u001b[0m (unicode error) 'unicodeescape' codec can't decode bytes in position 2-3: truncated \\UXXXXXXXX escape\n"
     ]
    }
   ],
   "source": [
    "# set path and load files \n",
    "path = \"C:\\Users\\lalal\\Desktop\\imageProcessing\\demo\\manifest-1701814559353\\QIN LUNG CT\\QIN-LSC-0003\\08-06-2003-1-CT Thorax wContrast-41946\"\n",
    "patient_dicom = load_scan(path)\n",
    "patient_pixels = get_pixels_hu(patient_dicom)\n",
    "#sanity check\n",
    "plt.imshow(patient_pixels[326], cmap=plt.cm.bone)"
   ]
  }
 ],
 "metadata": {
  "kernelspec": {
   "display_name": "Python 3",
   "language": "python",
   "name": "python3"
  },
  "language_info": {
   "codemirror_mode": {
    "name": "ipython",
    "version": 3
   },
   "file_extension": ".py",
   "mimetype": "text/x-python",
   "name": "python",
   "nbconvert_exporter": "python",
   "pygments_lexer": "ipython3",
   "version": "3.12.0"
  }
 },
 "nbformat": 4,
 "nbformat_minor": 2
}
